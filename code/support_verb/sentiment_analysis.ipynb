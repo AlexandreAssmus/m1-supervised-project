{
 "cells": [
  {
   "cell_type": "markdown",
   "metadata": {},
   "source": [
    "Sentiment analysis with bert-base-multilingual_uncased-sentiment"
   ]
  },
  {
   "cell_type": "code",
   "execution_count": 1,
   "metadata": {},
   "outputs": [
    {
     "name": "stderr",
     "output_type": "stream",
     "text": [
      "c:\\Users\\Etudiant\\M1_TAL\\m1-supervised-project\\.venv\\Lib\\site-packages\\tqdm\\auto.py:21: TqdmWarning: IProgress not found. Please update jupyter and ipywidgets. See https://ipywidgets.readthedocs.io/en/stable/user_install.html\n",
      "  from .autonotebook import tqdm as notebook_tqdm\n"
     ]
    }
   ],
   "source": [
    "from transformers import CamembertTokenizer, CamembertModel, AutoTokenizer, AutoModel,AutoModelForSequenceClassification, utils, BertModel, BertTokenizer\n",
    "import torch"
   ]
  },
  {
   "cell_type": "markdown",
   "metadata": {},
   "source": [
    "BERT multilingual"
   ]
  },
  {
   "cell_type": "code",
   "execution_count": 8,
   "metadata": {},
   "outputs": [
    {
     "name": "stdout",
     "output_type": "stream",
     "text": [
      "Sentence: Il fait marche arrière concernant ma décision., Sentiment: 4 stars, Confidence: 0.37\n",
      "Sentence: Elle fait la lessive tous les samedis pour garder mes vêtements propres., Sentiment: 4 stars, Confidence: 0.44\n",
      "Sentence: Julien fait du vélo tous les matins pour rester en forme., Sentiment: 4 stars, Confidence: 0.41\n",
      "Sentence: Il fait souvent du cinéma pour attirer la pitié., Sentiment: 4 stars, Confidence: 0.30\n",
      "Sentence: On fait une demande officielle pour obtenir l'autorisation nécessaire., Sentiment: 4 stars, Confidence: 0.31\n",
      "Sentence: Coralie fait de la boxe pour améliorer sa condition physique et sa concentration., Sentiment: 4 stars, Confidence: 0.45\n"
     ]
    }
   ],
   "source": [
    "\n",
    "tokenizer = AutoTokenizer.from_pretrained(\"nlptown/bert-base-multilingual-uncased-sentiment\")\n",
    "model = AutoModelForSequenceClassification.from_pretrained(\"nlptown/bert-base-multilingual-uncased-sentiment\")\n",
    "\n",
    "\"\"\"\n",
    "# Phrases avec le verbe 'faire'\n",
    "phrases = [\n",
    "    \"Il court un péril en allant là-bas.\",\n",
    "    \"Le buzz court sur les réseaux sociaux.\",\n",
    "    \"Le bruit court dans les couloirs.\",\n",
    "    \"Elle court sur la route.\",\n",
    "    \"Le danger court dans les zones inexplorées.\",\n",
    "    \"Le nuage court dans le ciel orageux.\",\n",
    "    \"Le risque court dans chaque décision d'investissement.\"\n",
    "]\n",
    "\"\"\"\n",
    "\n",
    "# Phrases avec le verbe 'faire'\n",
    "phrases = [\n",
    "        \"Il fait marche arrière concernant ma décision.\",\n",
    "        \"Elle fait la lessive tous les samedis pour garder mes vêtements propres.\",\n",
    "        \"Julien fait du vélo tous les matins pour rester en forme.\",\n",
    "        \"Il fait souvent du cinéma pour attirer la pitié.\",\n",
    "        \"On fait une demande officielle pour obtenir l'autorisation nécessaire.\",\n",
    "        \"Coralie fait de la boxe pour améliorer sa condition physique et sa concentration.\"\n",
    "    ]\n",
    "\"\"\"\n",
    "phrases = [\n",
    "    \"Je vis actuellement une tragédie avec le départ de mon père.\",\n",
    "    \"Je vis dans le désert depuis mon arrivée ici.\",\n",
    "    \"Je vis un conte de féés depuis que je l'ai rencontré\",\n",
    "    \"C'est pour cette raison que je vis chez moi depuis tout ce temps\"\n",
    "]\n",
    "\"\"\"\n",
    "for sentence in phrases:\n",
    "    # Encodage de la phrase\n",
    "    inputs = tokenizer(sentence, return_tensors=\"pt\", padding=True, truncation=True, max_length=512)\n",
    "    \n",
    "    # Prédiction du sentiment\n",
    "    with torch.no_grad():\n",
    "        outputs = model(**inputs)\n",
    "    \n",
    "    # Extraire les scores et déterminer la classe prédite\n",
    "    scores = torch.nn.functional.softmax(outputs.logits, dim=1)\n",
    "    predicted_class = scores.argmax(dim=1).item()  # Obtient l'indice de la classe avec le score le plus élevé\n",
    "    confidence = scores[0, predicted_class].item()  # Confiance pour la classe prédite\n",
    "    \n",
    "    # Générer l'étiquette de sentiment basée sur la prédiction\n",
    "    labels = [\"1 star\", \"2 stars\", \"3 stars\", \"4 stars\", \"5 stars\"]  # Adapté à ce modèle spécifique\n",
    "    predicted_label = labels[predicted_class]\n",
    "    \n",
    "    print(f\"Sentence: {sentence}, Sentiment: {predicted_label}, Confidence: {confidence:.2f}\")\n",
    "\n"
   ]
  },
  {
   "cell_type": "markdown",
   "metadata": {},
   "source": [
    "DistilBERT"
   ]
  },
  {
   "cell_type": "code",
   "execution_count": 7,
   "metadata": {},
   "outputs": [
    {
     "name": "stdout",
     "output_type": "stream",
     "text": [
      "Sentence: Il fait marche arrière concernant ma décision., Sentiment: 3 stars, Confidence: 0.29\n",
      "Sentence: Elle fait la lessive tous les samedis pour garder mes vêtements propres., Sentiment: 5 stars, Confidence: 0.42\n",
      "Sentence: Julien fait du vélo tous les matins pour rester en forme., Sentiment: 5 stars, Confidence: 0.42\n",
      "Sentence: Il fait souvent du cinéma pour attirer la pitié., Sentiment: 1 star, Confidence: 0.45\n",
      "Sentence: On fait une demande officielle pour obtenir l'autorisation nécessaire., Sentiment: 4 stars, Confidence: 0.25\n",
      "Sentence: Coralie fait de la boxe pour améliorer sa condition physique et sa concentration., Sentiment: 4 stars, Confidence: 0.41\n"
     ]
    }
   ],
   "source": [
    "\n",
    "tokenizer = AutoTokenizer.from_pretrained(\"cmarkea/distilcamembert-base-sentiment\")\n",
    "model = AutoModelForSequenceClassification.from_pretrained(\"cmarkea/distilcamembert-base-sentiment\")\n",
    "\"\"\"\n",
    "# Phrases avec le verbe 'faire'\n",
    "phrases = [\n",
    "    \"Il court un péril en allant là-bas.\",\n",
    "    \"Le buzz court sur les réseaux sociaux.\",\n",
    "    \"Le bruit court dans les couloirs.\",\n",
    "    \"Elle court sur la route.\",\n",
    "    \"Le danger court dans les zones inexplorées.\",\n",
    "    \"Le nuage court dans le ciel orageux.\",\n",
    "    \"Le risque court dans chaque décision d'investissement.\"\n",
    "]\n",
    "\"\"\"\n",
    "# Phrases avec le verbe 'faire'\n",
    "phrases = [\n",
    "        \"Il fait marche arrière concernant ma décision.\",\n",
    "        \"Elle fait la lessive tous les samedis pour garder mes vêtements propres.\",\n",
    "        \"Julien fait du vélo tous les matins pour rester en forme.\",\n",
    "        \"Il fait souvent du cinéma pour attirer la pitié.\",\n",
    "        \"On fait une demande officielle pour obtenir l'autorisation nécessaire.\",\n",
    "        \"Coralie fait de la boxe pour améliorer sa condition physique et sa concentration.\"\n",
    "    ]\n",
    "\"\"\"\n",
    "phrases = [\n",
    "    \"Je vis actuellement une tragédie avec le départ de mon père.\",\n",
    "    \"Je vis dans le désert depuis mon arrivée ici.\",\n",
    "    \"Je vis un conte de féés depuis que je l'ai rencontré\",\n",
    "    \"C'est pour cette raison que je vis chez moi depuis tout ce temps\"\n",
    "]\n",
    "\"\"\"\n",
    "for sentence in phrases:\n",
    "    # Encodage de la phrase\n",
    "    inputs = tokenizer(sentence, return_tensors=\"pt\", padding=True, truncation=True, max_length=512)\n",
    "    \n",
    "    # Prédiction du sentiment\n",
    "    with torch.no_grad():\n",
    "        outputs = model(**inputs)\n",
    "    \n",
    "    # Extraire les scores et déterminer la classe prédite\n",
    "    scores = torch.nn.functional.softmax(outputs.logits, dim=1)\n",
    "    predicted_class = scores.argmax(dim=1).item()  # Obtient l'indice de la classe avec le score le plus élevé\n",
    "    confidence = scores[0, predicted_class].item()  # Confiance pour la classe prédite\n",
    "    \n",
    "    # Générer l'étiquette de sentiment basée sur la prédiction\n",
    "    labels = [\"1 star\", \"2 stars\", \"3 stars\", \"4 stars\", \"5 stars\"]  # Adapté à ce modèle spécifique\n",
    "    predicted_label = labels[predicted_class]\n",
    "    \n",
    "    print(f\"Sentence: {sentence}, Sentiment: {predicted_label}, Confidence: {confidence:.2f}\")\n",
    "\n"
   ]
  }
 ],
 "metadata": {
  "kernelspec": {
   "display_name": ".venv",
   "language": "python",
   "name": "python3"
  },
  "language_info": {
   "codemirror_mode": {
    "name": "ipython",
    "version": 3
   },
   "file_extension": ".py",
   "mimetype": "text/x-python",
   "name": "python",
   "nbconvert_exporter": "python",
   "pygments_lexer": "ipython3",
   "version": "3.12.3"
  }
 },
 "nbformat": 4,
 "nbformat_minor": 2
}
