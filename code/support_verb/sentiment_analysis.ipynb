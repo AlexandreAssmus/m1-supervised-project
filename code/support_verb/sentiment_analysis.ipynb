{
 "cells": [
  {
   "cell_type": "markdown",
   "metadata": {},
   "source": [
    "Sentiment analysis with bert-base-multilingual_uncased-sentiment"
   ]
  },
  {
   "cell_type": "code",
   "execution_count": 7,
   "metadata": {},
   "outputs": [],
   "source": [
    "from transformers import CamembertTokenizer, CamembertModel, AutoTokenizer, AutoModel,AutoModelForSequenceClassification, utils, BertModel, BertTokenizer\n",
    "import torch"
   ]
  },
  {
   "cell_type": "code",
   "execution_count": 10,
   "metadata": {},
   "outputs": [
    {
     "name": "stdout",
     "output_type": "stream",
     "text": [
      "Sentence: Il court un péril en allant là-bas., Sentiment: 2 stars, Confidence: 0.42\n",
      "Sentence: Le buzz court sur les réseaux sociaux., Sentiment: 2 stars, Confidence: 0.33\n",
      "Sentence: Le bruit court dans les couloirs., Sentiment: 2 stars, Confidence: 0.48\n",
      "Sentence: Elle court sur la route., Sentiment: 3 stars, Confidence: 0.34\n",
      "Sentence: Le danger court dans les zones inexplorées., Sentiment: 2 stars, Confidence: 0.36\n",
      "Sentence: Le nuage court dans le ciel orageux., Sentiment: 2 stars, Confidence: 0.35\n",
      "Sentence: Le risque court dans chaque décision d'investissement., Sentiment: 3 stars, Confidence: 0.38\n"
     ]
    }
   ],
   "source": [
    "\n",
    "tokenizer = AutoTokenizer.from_pretrained(\"nlptown/bert-base-multilingual-uncased-sentiment\")\n",
    "model = AutoModelForSequenceClassification.from_pretrained(\"nlptown/bert-base-multilingual-uncased-sentiment\")\n",
    "\n",
    "# Phrases avec le verbe 'faire'\n",
    "phrases = [\n",
    "    \"Il court un péril en allant là-bas.\",\n",
    "    \"Le buzz court sur les réseaux sociaux.\",\n",
    "    \"Le bruit court dans les couloirs.\",\n",
    "    \"Elle court sur la route.\",\n",
    "    \"Le danger court dans les zones inexplorées.\",\n",
    "    \"Le nuage court dans le ciel orageux.\",\n",
    "    \"Le risque court dans chaque décision d'investissement.\"\n",
    "]\n",
    "for sentence in phrases:\n",
    "    # Encodage de la phrase\n",
    "    inputs = tokenizer(sentence, return_tensors=\"pt\", padding=True, truncation=True, max_length=512)\n",
    "    \n",
    "    # Prédiction du sentiment\n",
    "    with torch.no_grad():\n",
    "        outputs = model(**inputs)\n",
    "    \n",
    "    # Extraire les scores et déterminer la classe prédite\n",
    "    scores = torch.nn.functional.softmax(outputs.logits, dim=1)\n",
    "    predicted_class = scores.argmax(dim=1).item()  # Obtient l'indice de la classe avec le score le plus élevé\n",
    "    confidence = scores[0, predicted_class].item()  # Confiance pour la classe prédite\n",
    "    \n",
    "    # Générer l'étiquette de sentiment basée sur la prédiction\n",
    "    labels = [\"1 star\", \"2 stars\", \"3 stars\", \"4 stars\", \"5 stars\"]  # Adapté à ce modèle spécifique\n",
    "    predicted_label = labels[predicted_class]\n",
    "    \n",
    "    print(f\"Sentence: {sentence}, Sentiment: {predicted_label}, Confidence: {confidence:.2f}\")\n",
    "\n"
   ]
  },
  {
   "cell_type": "code",
   "execution_count": 12,
   "metadata": {},
   "outputs": [
    {
     "name": "stdout",
     "output_type": "stream",
     "text": [
      "Sentence: Il court un péril en allant là-bas., Sentiment: 1 star, Confidence: 0.30\n",
      "Sentence: Le buzz court sur les réseaux sociaux., Sentiment: 4 stars, Confidence: 0.27\n",
      "Sentence: Le bruit court dans les couloirs., Sentiment: 2 stars, Confidence: 0.33\n",
      "Sentence: Elle court sur la route., Sentiment: 2 stars, Confidence: 0.28\n",
      "Sentence: Le danger court dans les zones inexplorées., Sentiment: 3 stars, Confidence: 0.28\n",
      "Sentence: Le nuage court dans le ciel orageux., Sentiment: 2 stars, Confidence: 0.40\n",
      "Sentence: Le risque court dans chaque décision d'investissement., Sentiment: 4 stars, Confidence: 0.29\n"
     ]
    }
   ],
   "source": [
    "\n",
    "tokenizer = AutoTokenizer.from_pretrained(\"cmarkea/distilcamembert-base-sentiment\")\n",
    "model = AutoModelForSequenceClassification.from_pretrained(\"cmarkea/distilcamembert-base-sentiment\")\n",
    "# Phrases avec le verbe 'faire'\n",
    "phrases = [\n",
    "    \"Il court un péril en allant là-bas.\",\n",
    "    \"Le buzz court sur les réseaux sociaux.\",\n",
    "    \"Le bruit court dans les couloirs.\",\n",
    "    \"Elle court sur la route.\",\n",
    "    \"Le danger court dans les zones inexplorées.\",\n",
    "    \"Le nuage court dans le ciel orageux.\",\n",
    "    \"Le risque court dans chaque décision d'investissement.\"\n",
    "]\n",
    "for sentence in phrases:\n",
    "    # Encodage de la phrase\n",
    "    inputs = tokenizer(sentence, return_tensors=\"pt\", padding=True, truncation=True, max_length=512)\n",
    "    \n",
    "    # Prédiction du sentiment\n",
    "    with torch.no_grad():\n",
    "        outputs = model(**inputs)\n",
    "    \n",
    "    # Extraire les scores et déterminer la classe prédite\n",
    "    scores = torch.nn.functional.softmax(outputs.logits, dim=1)\n",
    "    predicted_class = scores.argmax(dim=1).item()  # Obtient l'indice de la classe avec le score le plus élevé\n",
    "    confidence = scores[0, predicted_class].item()  # Confiance pour la classe prédite\n",
    "    \n",
    "    # Générer l'étiquette de sentiment basée sur la prédiction\n",
    "    labels = [\"1 star\", \"2 stars\", \"3 stars\", \"4 stars\", \"5 stars\"]  # Adapté à ce modèle spécifique\n",
    "    predicted_label = labels[predicted_class]\n",
    "    \n",
    "    print(f\"Sentence: {sentence}, Sentiment: {predicted_label}, Confidence: {confidence:.2f}\")\n",
    "\n"
   ]
  }
 ],
 "metadata": {
  "kernelspec": {
   "display_name": ".venv",
   "language": "python",
   "name": "python3"
  },
  "language_info": {
   "codemirror_mode": {
    "name": "ipython",
    "version": 3
   },
   "file_extension": ".py",
   "mimetype": "text/x-python",
   "name": "python",
   "nbconvert_exporter": "python",
   "pygments_lexer": "ipython3",
   "version": "3.12.3"
  }
 },
 "nbformat": 4,
 "nbformat_minor": 2
}
