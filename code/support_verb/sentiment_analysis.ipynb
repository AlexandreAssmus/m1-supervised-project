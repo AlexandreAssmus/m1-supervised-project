{
 "cells": [
  {
   "cell_type": "markdown",
   "metadata": {},
   "source": [
    "Sentiment analysis with bert-base-multilingual_uncased-sentiment"
   ]
  },
  {
   "cell_type": "code",
   "execution_count": 14,
   "metadata": {},
   "outputs": [],
   "source": [
    "from transformers import CamembertTokenizer, CamembertModel, AutoTokenizer, AutoModel,AutoModelForSequenceClassification, utils, BertModel, BertTokenizer\n",
    "import torch"
   ]
  },
  {
   "cell_type": "markdown",
   "metadata": {},
   "source": [
    "BERT multilingual"
   ]
  },
  {
   "cell_type": "code",
   "execution_count": 16,
   "metadata": {},
   "outputs": [
    {
     "name": "stdout",
     "output_type": "stream",
     "text": [
      "Sentence: Je vis actuellement une tragédie avec le départ de mon père., Sentiment: 2 stars, Confidence: 0.34\n",
      "Sentence: Je vis dans le désert depuis mon arrivée ici., Sentiment: 5 stars, Confidence: 0.56\n",
      "Sentence: Je vis un conte de féés depuis que je l'ai rencontré, Sentiment: 5 stars, Confidence: 0.48\n",
      "Sentence: C'est pour cette raison que je vis chez moi depuis tout ce temps, Sentiment: 5 stars, Confidence: 0.58\n"
     ]
    }
   ],
   "source": [
    "\n",
    "tokenizer = AutoTokenizer.from_pretrained(\"nlptown/bert-base-multilingual-uncased-sentiment\")\n",
    "model = AutoModelForSequenceClassification.from_pretrained(\"nlptown/bert-base-multilingual-uncased-sentiment\")\n",
    "\n",
    "\"\"\"\n",
    "# Phrases avec le verbe 'faire'\n",
    "phrases = [\n",
    "    \"Il court un péril en allant là-bas.\",\n",
    "    \"Le buzz court sur les réseaux sociaux.\",\n",
    "    \"Le bruit court dans les couloirs.\",\n",
    "    \"Elle court sur la route.\",\n",
    "    \"Le danger court dans les zones inexplorées.\",\n",
    "    \"Le nuage court dans le ciel orageux.\",\n",
    "    \"Le risque court dans chaque décision d'investissement.\"\n",
    "]\n",
    "\"\"\"\n",
    "phrases = [\n",
    "    \"Je vis actuellement une tragédie avec le départ de mon père.\",\n",
    "    \"Je vis dans le désert depuis mon arrivée ici.\",\n",
    "    \"Je vis un conte de féés depuis que je l'ai rencontré\",\n",
    "    \"C'est pour cette raison que je vis chez moi depuis tout ce temps\"\n",
    "]\n",
    "for sentence in phrases:\n",
    "    # Encodage de la phrase\n",
    "    inputs = tokenizer(sentence, return_tensors=\"pt\", padding=True, truncation=True, max_length=512)\n",
    "    \n",
    "    # Prédiction du sentiment\n",
    "    with torch.no_grad():\n",
    "        outputs = model(**inputs)\n",
    "    \n",
    "    # Extraire les scores et déterminer la classe prédite\n",
    "    scores = torch.nn.functional.softmax(outputs.logits, dim=1)\n",
    "    predicted_class = scores.argmax(dim=1).item()  # Obtient l'indice de la classe avec le score le plus élevé\n",
    "    confidence = scores[0, predicted_class].item()  # Confiance pour la classe prédite\n",
    "    \n",
    "    # Générer l'étiquette de sentiment basée sur la prédiction\n",
    "    labels = [\"1 star\", \"2 stars\", \"3 stars\", \"4 stars\", \"5 stars\"]  # Adapté à ce modèle spécifique\n",
    "    predicted_label = labels[predicted_class]\n",
    "    \n",
    "    print(f\"Sentence: {sentence}, Sentiment: {predicted_label}, Confidence: {confidence:.2f}\")\n",
    "\n"
   ]
  },
  {
   "cell_type": "markdown",
   "metadata": {},
   "source": [
    "DistilBERT"
   ]
  },
  {
   "cell_type": "code",
   "execution_count": 15,
   "metadata": {},
   "outputs": [
    {
     "name": "stderr",
     "output_type": "stream",
     "text": [
      "c:\\Users\\Etudiant\\M1_TAL\\m1-supervised-project\\.venv\\Lib\\site-packages\\huggingface_hub\\file_download.py:1132: FutureWarning: `resume_download` is deprecated and will be removed in version 1.0.0. Downloads always resume when possible. If you want to force a new download, use `force_download=True`.\n",
      "  warnings.warn(\n"
     ]
    },
    {
     "name": "stdout",
     "output_type": "stream",
     "text": [
      "Sentence: Je vis actuellement une tragédie avec le départ de mon père., Sentiment: 4 stars, Confidence: 0.34\n",
      "Sentence: Je vis dans le désert depuis mon arrivée ici., Sentiment: 5 stars, Confidence: 0.37\n",
      "Sentence: Je vis un conte de féés depuis que je l'ai rencontré, Sentiment: 5 stars, Confidence: 0.52\n",
      "Sentence: C'est pour cette raison que je vis chez moi depuis tout ce temps, Sentiment: 5 stars, Confidence: 0.50\n"
     ]
    }
   ],
   "source": [
    "\n",
    "tokenizer = AutoTokenizer.from_pretrained(\"cmarkea/distilcamembert-base-sentiment\")\n",
    "model = AutoModelForSequenceClassification.from_pretrained(\"cmarkea/distilcamembert-base-sentiment\")\n",
    "\"\"\"\n",
    "# Phrases avec le verbe 'faire'\n",
    "phrases = [\n",
    "    \"Il court un péril en allant là-bas.\",\n",
    "    \"Le buzz court sur les réseaux sociaux.\",\n",
    "    \"Le bruit court dans les couloirs.\",\n",
    "    \"Elle court sur la route.\",\n",
    "    \"Le danger court dans les zones inexplorées.\",\n",
    "    \"Le nuage court dans le ciel orageux.\",\n",
    "    \"Le risque court dans chaque décision d'investissement.\"\n",
    "]\n",
    "\"\"\"\n",
    "phrases = [\n",
    "    \"Je vis actuellement une tragédie avec le départ de mon père.\",\n",
    "    \"Je vis dans le désert depuis mon arrivée ici.\",\n",
    "    \"Je vis un conte de féés depuis que je l'ai rencontré\",\n",
    "    \"C'est pour cette raison que je vis chez moi depuis tout ce temps\"\n",
    "]\n",
    "for sentence in phrases:\n",
    "    # Encodage de la phrase\n",
    "    inputs = tokenizer(sentence, return_tensors=\"pt\", padding=True, truncation=True, max_length=512)\n",
    "    \n",
    "    # Prédiction du sentiment\n",
    "    with torch.no_grad():\n",
    "        outputs = model(**inputs)\n",
    "    \n",
    "    # Extraire les scores et déterminer la classe prédite\n",
    "    scores = torch.nn.functional.softmax(outputs.logits, dim=1)\n",
    "    predicted_class = scores.argmax(dim=1).item()  # Obtient l'indice de la classe avec le score le plus élevé\n",
    "    confidence = scores[0, predicted_class].item()  # Confiance pour la classe prédite\n",
    "    \n",
    "    # Générer l'étiquette de sentiment basée sur la prédiction\n",
    "    labels = [\"1 star\", \"2 stars\", \"3 stars\", \"4 stars\", \"5 stars\"]  # Adapté à ce modèle spécifique\n",
    "    predicted_label = labels[predicted_class]\n",
    "    \n",
    "    print(f\"Sentence: {sentence}, Sentiment: {predicted_label}, Confidence: {confidence:.2f}\")\n",
    "\n"
   ]
  }
 ],
 "metadata": {
  "kernelspec": {
   "display_name": ".venv",
   "language": "python",
   "name": "python3"
  },
  "language_info": {
   "codemirror_mode": {
    "name": "ipython",
    "version": 3
   },
   "file_extension": ".py",
   "mimetype": "text/x-python",
   "name": "python",
   "nbconvert_exporter": "python",
   "pygments_lexer": "ipython3",
   "version": "3.12.3"
  }
 },
 "nbformat": 4,
 "nbformat_minor": 2
}
