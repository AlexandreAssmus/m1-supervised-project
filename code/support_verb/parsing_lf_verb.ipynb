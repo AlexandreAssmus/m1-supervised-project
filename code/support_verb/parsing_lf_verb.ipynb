{
 "cells": [
  {
   "cell_type": "code",
   "execution_count": 1,
   "metadata": {},
   "outputs": [],
   "source": [
    "import pandas as pd"
   ]
  },
  {
   "cell_type": "code",
   "execution_count": 4,
   "metadata": {},
   "outputs": [
    {
     "name": "stdout",
     "output_type": "stream",
     "text": [
      "                 source            target\n",
      "402    ls:fr:node:26291  ls:fr:node:43932\n",
      "5394   ls:fr:node:27309  ls:fr:node:43932\n",
      "5528   ls:fr:node:27348  ls:fr:node:26434\n",
      "17679  ls:fr:node:30858  ls:fr:node:43932\n"
     ]
    }
   ],
   "source": [
    "# Charger le fichier CSV\n",
    "df = pd.read_csv('C:/Users/Etudiant/M1_TAL/m1-supervised-project/lexical-system-fr/ls-fr-V3/15-lslf-rel.csv', delimiter='\\t')  \n",
    "\n",
    "# Filtrer les lignes où la colonne 'lf' est égale à 'ls:fr:lf:190'\n",
    "filtered_df = df[df['lf'] == 'ls:fr:lf:225'] # Oper / Func / Labor\n",
    "\n",
    "# Sélectionner les colonnes 'source' et 'target'\n",
    "result = filtered_df[['source', 'target']]\n",
    "result.to_csv('C:/Users/Etudiant/M1_TAL/m1-supervised-project/code/support_verb/result_Labor21.csv', index=False)\n",
    "# Afficher les résultats\n",
    "print(result)\n",
    "\n",
    "\n",
    "\n"
   ]
  },
  {
   "cell_type": "code",
   "execution_count": 6,
   "metadata": {},
   "outputs": [
    {
     "name": "stdout",
     "output_type": "stream",
     "text": [
      "Les données enrichies ont été sauvegardées dans C:/Users/Etudiant/M1_TAL/m1-supervised-project/Labor21.csv\n"
     ]
    }
   ],
   "source": [
    "# Charger les fichiers CSV\n",
    "results_df = pd.read_csv('C:/Users/Etudiant/M1_TAL/m1-supervised-project/code/support_verb/result_Labor21.csv')\n",
    "nodes_df = pd.read_csv('C:/Users/Etudiant/M1_TAL/m1-supervised-project/lexical-system-fr/ls-fr-V3/01-lsnodes.csv', delimiter='\\t')\n",
    "\n",
    "# Nettoyer les données pour extraire les lexnames\n",
    "nodes_df['lexname_cleaned'] = nodes_df['lexname'].str.extract(r'>\\s*(.+?)\\s*<')\n",
    "\n",
    "# Créer un dictionnaire pour les correspondances ID vers lexname\n",
    "id_to_lexname = pd.Series(nodes_df.lexname_cleaned.values, index=nodes_df.id).to_dict()\n",
    "\n",
    "# Appliquer les correspondances aux colonnes 'source' et 'target' de results_df\n",
    "results_df['source_lexname'] = results_df['source'].map(id_to_lexname)\n",
    "results_df['target_lexname'] = results_df['target'].map(id_to_lexname)\n",
    "\n",
    "# Sauvegarder le résultat enrichi dans un nouveau fichier CSV\n",
    "output_file = 'C:/Users/Etudiant/M1_TAL/m1-supervised-project/code/support_verb/Labor21.csv'\n",
    "results_df.to_csv(output_file, index=False)\n",
    "\n",
    "print(\"Les données enrichies ont été sauvegardées dans\", output_file)"
   ]
  }
 ],
 "metadata": {
  "kernelspec": {
   "display_name": ".venv",
   "language": "python",
   "name": "python3"
  },
  "language_info": {
   "codemirror_mode": {
    "name": "ipython",
    "version": 3
   },
   "file_extension": ".py",
   "mimetype": "text/x-python",
   "name": "python",
   "nbconvert_exporter": "python",
   "pygments_lexer": "ipython3",
   "version": "3.12.3"
  }
 },
 "nbformat": 4,
 "nbformat_minor": 2
}
